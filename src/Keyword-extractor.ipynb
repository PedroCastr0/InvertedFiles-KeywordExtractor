{
 "cells": [
  {
   "cell_type": "code",
   "execution_count": 1,
   "id": "fec4f50d",
   "metadata": {},
   "outputs": [],
   "source": [
    "import pdfplumber\n",
    "import pandas as pd\n",
    "import numpy as np\n",
    "import os"
   ]
  },
  {
   "cell_type": "markdown",
   "id": "2273e1bd",
   "metadata": {},
   "source": [
    "Algoritmo baseado no tutorial de \"https://kavita-ganesan.com/extracting-keywords-from-text-tfidf/#.YOcd8XVKgUS\""
   ]
  },
  {
   "cell_type": "code",
   "execution_count": 2,
   "id": "291c2b27",
   "metadata": {},
   "outputs": [],
   "source": [
    "def extract_text(filename):\n",
    "    raw_text = list()\n",
    "    with pdfplumber.open(\"res/\" + filename) as pdf:\n",
    "        for pdf_page in pdf.pages:\n",
    "            single_page = pdf_page.extract_text()\n",
    "            if single_page:\n",
    "                raw_text.append(single_page)\n",
    "    \n",
    "        for i, text in enumerate(raw_text):\n",
    "            position = raw_text[i].find(\"Resumo\")\n",
    "            if position > 0:\n",
    "                raw_text = raw_text[i:]\n",
    "                return raw_text"
   ]
  },
  {
   "cell_type": "code",
   "execution_count": 3,
   "id": "b06139d5",
   "metadata": {},
   "outputs": [],
   "source": [
    "import re\n",
    "import string\n",
    "\n",
    "def remove_punctuation(raw_text):\n",
    "    raw_text = re.sub(\"[%s]\" % re.escape(string.punctuation), \"\", raw_text)\n",
    "    raw_text = re.sub(\"\\w*\\d\\w*\", \"\", raw_text)\n",
    "    raw_text = ' '.join([w for w in raw_text.split() if len(w) < 12])\n",
    "    raw_text.strip()\n",
    "    return raw_text"
   ]
  },
  {
   "cell_type": "code",
   "execution_count": 4,
   "id": "e24f5449",
   "metadata": {},
   "outputs": [
    {
     "data": {
      "text/html": [
       "<div>\n",
       "<style scoped>\n",
       "    .dataframe tbody tr th:only-of-type {\n",
       "        vertical-align: middle;\n",
       "    }\n",
       "\n",
       "    .dataframe tbody tr th {\n",
       "        vertical-align: top;\n",
       "    }\n",
       "\n",
       "    .dataframe thead th {\n",
       "        text-align: right;\n",
       "    }\n",
       "</style>\n",
       "<table border=\"1\" class=\"dataframe\">\n",
       "  <thead>\n",
       "    <tr style=\"text-align: right;\">\n",
       "      <th></th>\n",
       "      <th>nome arquivo</th>\n",
       "      <th>lista de palavras</th>\n",
       "    </tr>\n",
       "  </thead>\n",
       "  <tbody>\n",
       "    <tr>\n",
       "      <th>0</th>\n",
       "      <td>1.pdf</td>\n",
       "      <td>Redes neurais para previsa˜o do coeﬁciente de ...</td>\n",
       "    </tr>\n",
       "  </tbody>\n",
       "</table>\n",
       "</div>"
      ],
      "text/plain": [
       "  nome arquivo                                  lista de palavras\n",
       "0        1.pdf  Redes neurais para previsa˜o do coeﬁciente de ..."
      ]
     },
     "execution_count": 4,
     "metadata": {},
     "output_type": "execute_result"
    }
   ],
   "source": [
    "filenames = [\"4.pdf\", \"2.pdf\", \"3.pdf\", \"5.pdf\", \"1.pdf\"]\n",
    "documents_list = list()\n",
    "\n",
    "for f in filenames:\n",
    "    raw_text = extract_text(f)\n",
    "    raw_text = \" \".join(raw_text)\n",
    "    raw_text = raw_text.replace(\"\\n\", \" \")\n",
    "    clean_text = remove_punctuation(raw_text)\n",
    "    documents_list.append(clean_text)\n",
    "\n",
    "df = pd.DataFrame({\"nome arquivos\": filenames[0:4], \"lista de palavras\":documents_list[0:4]})\n",
    "df\n",
    "df_test = pd.DataFrame({\"nome arquivo\": filenames[4:], \"lista de palavras\": documents_list[4:]})\n",
    "df_test"
   ]
  },
  {
   "cell_type": "code",
   "execution_count": 5,
   "id": "42ed13e2",
   "metadata": {},
   "outputs": [],
   "source": [
    "docs = df['lista de palavras'].tolist()\n",
    "docs_test = df_test['lista de palavras'].tolist()"
   ]
  },
  {
   "cell_type": "code",
   "execution_count": 6,
   "id": "8145cb63",
   "metadata": {},
   "outputs": [],
   "source": [
    "import nltk\n",
    "from nltk.corpus import stopwords\n",
    "from nltk.corpus import words\n",
    "from sklearn.feature_extraction.text import CountVectorizer\n",
    "sw = stopwords.words(\"portuguese\")\n",
    "\n",
    "cv = CountVectorizer(max_df=0.85,stop_words=sw)\n",
    "word_count_vector = cv.fit_transform(docs)"
   ]
  },
  {
   "cell_type": "code",
   "execution_count": 7,
   "id": "194a0b52",
   "metadata": {},
   "outputs": [
    {
     "data": {
      "text/plain": [
       "TfidfTransformer()"
      ]
     },
     "execution_count": 7,
     "metadata": {},
     "output_type": "execute_result"
    }
   ],
   "source": [
    "from sklearn.feature_extraction.text import TfidfTransformer\n",
    "\n",
    "tfidf = TfidfTransformer(smooth_idf=True,use_idf=True)\n",
    "tfidf.fit(word_count_vector)"
   ]
  },
  {
   "cell_type": "code",
   "execution_count": 8,
   "id": "44a2b8a4",
   "metadata": {},
   "outputs": [],
   "source": [
    "feature_names = cv.get_feature_names() \n",
    "doc = docs_test[0]\n",
    "tf_idf_vector = tfidf.transform(cv.transform([doc]))\n",
    "\n",
    "coo_matrix = tf_idf_vector.tocoo()"
   ]
  },
  {
   "cell_type": "code",
   "execution_count": 9,
   "id": "0eb5d915",
   "metadata": {},
   "outputs": [
    {
     "name": "stdout",
     "output_type": "stream",
     "text": [
      "rede\n",
      "treinamento\n",
      "sae\n",
      "uniforme\n",
      "valores\n"
     ]
    }
   ],
   "source": [
    "tuples = zip(coo_matrix.col, coo_matrix.data)\n",
    "sorted_items = sorted(tuples, key=lambda x: (x[1], x[0]), reverse=True)\n",
    "\n",
    "sorted_items = sorted_items[:5]\n",
    "\n",
    "for idx, score in sorted_items:\n",
    "    print(feature_names[idx])"
   ]
  }
 ],
 "metadata": {
  "kernelspec": {
   "display_name": "Python 3",
   "language": "python",
   "name": "python3"
  },
  "language_info": {
   "codemirror_mode": {
    "name": "ipython",
    "version": 3
   },
   "file_extension": ".py",
   "mimetype": "text/x-python",
   "name": "python",
   "nbconvert_exporter": "python",
   "pygments_lexer": "ipython3",
   "version": "3.8.10"
  }
 },
 "nbformat": 4,
 "nbformat_minor": 5
}
